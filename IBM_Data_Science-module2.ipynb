{
 "cells": [
  {
   "cell_type": "markdown",
   "id": "a5362709",
   "metadata": {},
   "source": [
    "# Data Science Tools and Ecosystem"
   ]
  },
  {
   "cell_type": "markdown",
   "id": "692f6f2f",
   "metadata": {},
   "source": [
    "In this notebook, we will summarize some of the essential tools, languages, and libraries used in the field of Data Science."
   ]
  },
  {
   "cell_type": "markdown",
   "id": "2a611b62",
   "metadata": {},
   "source": [
    "## Data Science Languages:\n",
    "Some of the popular languages used in Data Science include:\n",
    "1. Python\n",
    "2. R\n",
    "3. SQL\n",
    "4. Julia\n",
    "5. Scala"
   ]
  },
  {
   "cell_type": "markdown",
   "id": "657c79bd",
   "metadata": {},
   "source": [
    "## Data Science Libraries:\n",
    "Common libraries used in Data Science are:\n",
    "- Pandas\n",
    "- NumPy\n",
    "- Matplotlib\n",
    "- Scikit-learn\n",
    "- TensorFlow\n",
    "- ggplot2 (for R)"
   ]
  },
  {
   "cell_type": "markdown",
   "id": "83990b1b",
   "metadata": {},
   "source": [
    "| Category | Tool |\n",
    "|----------|------|\n",
    "| IDE | Jupyter Notebook |\n",
    "| IDE | RStudio |\n",
    "| Visualization | Tableau |\n",
    "| Data Processing | Apache Spark |\n",
    "| ML Platform | TensorFlow |"
   ]
  },
  {
   "cell_type": "markdown",
   "id": "40219cc8",
   "metadata": {},
   "source": [
    "## Examples of Arithmetic Expressions\n",
    "Below are examples of arithmetic expressions such as addition and multiplication."
   ]
  },
  {
   "cell_type": "code",
   "execution_count": null,
   "id": "20abf65d",
   "metadata": {},
   "outputs": [],
   "source": [
    "# This expression multiplies and adds numbers\n",
    "(3 * 4) + 5"
   ]
  },
  {
   "cell_type": "code",
   "execution_count": null,
   "id": "4df2d6a5",
   "metadata": {},
   "outputs": [],
   "source": [
    "# This will convert 200 minutes to hours\n",
    "minutes = 200\n",
    "hours = minutes / 60\n",
    "hours"
   ]
  },
  {
   "cell_type": "markdown",
   "id": "9bfb5ce7",
   "metadata": {},
   "source": [
    "## Objectives:\n",
    "- List popular languages for Data Science\n",
    "- List commonly used libraries\n",
    "- Create tables and markdown cells\n",
    "- Perform basic arithmetic operations in code cells\n",
    "- Convert units in code (e.g., minutes to hours)"
   ]
  },
  {
   "cell_type": "markdown",
   "id": "af9f91dd",
   "metadata": {},
   "source": [
    "**Author:** Vansh Giri"
   ]
  }
 ],
 "metadata": {
  "language_info": {
   "name": "python"
  }
 },
 "nbformat": 4,
 "nbformat_minor": 5
}
