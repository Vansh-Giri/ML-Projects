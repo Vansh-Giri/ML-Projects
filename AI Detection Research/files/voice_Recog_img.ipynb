{
  "nbformat": 4,
  "nbformat_minor": 0,
  "metadata": {
    "colab": {
      "provenance": []
    },
    "kernelspec": {
      "name": "python3",
      "display_name": "Python 3"
    },
    "language_info": {
      "name": "python"
    }
  },
  "cells": [
    {
      "cell_type": "code",
      "source": [
        "import os\n",
        "import cv2\n",
        "import numpy as np\n",
        "import matplotlib.pyplot as plt\n",
        "from sklearn.model_selection import train_test_split\n",
        "\n",
        "# Define dataset paths\n",
        "base_path = r\"C:\\Users\\HP\\OneDrive\\Documents\\college\\6th sem\\minor project\\deepfake image\"\n",
        "train_path = os.path.join(base_path, \"train\")\n",
        "test_path = os.path.join(base_path, \"test\")\n",
        "\n",
        "categories = [\"real\", \"fake\"]  # Labels: 0 -> Real, 1 -> Fake\n",
        "IMG_SIZE = 224  # Image input size\n"
      ],
      "metadata": {
        "id": "wszn5zCTXctA"
      },
      "execution_count": null,
      "outputs": []
    },
    {
      "cell_type": "code",
      "source": [
        "def load_images_from_folder(folder_path, label):\n",
        "    images = []\n",
        "    labels = []\n",
        "    for img_name in os.listdir(folder_path):\n",
        "        img_path = os.path.join(folder_path, img_name)\n",
        "        try:\n",
        "            img = cv2.imread(img_path)  # Read image\n",
        "            img = cv2.cvtColor(img, cv2.COLOR_BGR2RGB)  # Convert to RGB\n",
        "            img = cv2.resize(img, (IMG_SIZE, IMG_SIZE))  # Resize\n",
        "            img = img / 255.0  # Normalize\n",
        "            images.append(img)\n",
        "            labels.append(label)\n",
        "        except Exception as e:\n",
        "            print(f\"Error loading {img_path}: {e}\")\n",
        "    return images, labels\n"
      ],
      "metadata": {
        "id": "5nBhYJRLX-lG"
      },
      "execution_count": null,
      "outputs": []
    },
    {
      "cell_type": "code",
      "source": [
        "X_train, y_train, X_test, y_test = [], [], [], []\n",
        "\n",
        "# Load Train Data\n",
        "for label, category in enumerate(categories):\n",
        "    folder_path = os.path.join(train_path, category)\n",
        "    images, labels = load_images_from_folder(folder_path, label)\n",
        "    X_train.extend(images)\n",
        "    y_train.extend(labels)\n",
        "\n",
        "# Load Test Data\n",
        "for label, category in enumerate(categories):\n",
        "    folder_path = os.path.join(test_path, category)\n",
        "    images, labels = load_images_from_folder(folder_path, label)\n",
        "    X_test.extend(images)\n",
        "    y_test.extend(labels)\n",
        "\n",
        "# Convert to NumPy arrays\n",
        "X_train, y_train = np.array(X_train), np.array(y_train)\n",
        "X_test, y_test = np.array(X_test), np.array(y_test)\n",
        "\n",
        "print(f\"Train Data: {X_train.shape}, Test Data: {X_test.shape}\")\n"
      ],
      "metadata": {
        "id": "JIUnZSWtYDgB"
      },
      "execution_count": null,
      "outputs": []
    }
  ]
}